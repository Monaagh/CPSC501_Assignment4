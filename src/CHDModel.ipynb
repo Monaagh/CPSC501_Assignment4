{
  "nbformat": 4,
  "nbformat_minor": 0,
  "metadata": {
    "colab": {
      "name": "CHDModel.ipynb",
      "provenance": []
    },
    "kernelspec": {
      "name": "python3",
      "display_name": "Python 3"
    }
  },
  "cells": [
    {
      "cell_type": "code",
      "metadata": {
        "id": "Zih0CMmnLOt_",
        "colab_type": "code",
        "outputId": "4d267a34-e074-4166-bddb-def9f5c35931",
        "colab": {
          "base_uri": "https://localhost:8080/",
          "height": 34
        }
      },
      "source": [
        "#For Google Collab\n",
        "try:\n",
        "  # %tensorflow_version only exists in Colab.\n",
        "  %tensorflow_version 2.x\n",
        "except Exception:\n",
        "  pass"
      ],
      "execution_count": 1,
      "outputs": [
        {
          "output_type": "stream",
          "text": [
            "TensorFlow 2.x selected.\n"
          ],
          "name": "stdout"
        }
      ]
    },
    {
      "cell_type": "markdown",
      "metadata": {
        "id": "eamfxNNCME4Q",
        "colab_type": "text"
      },
      "source": [
        "Imports that are needed"
      ]
    },
    {
      "cell_type": "code",
      "metadata": {
        "id": "a-1BOSGxL8wU",
        "colab_type": "code",
        "colab": {}
      },
      "source": [
        "from __future__ import absolute_import, division, print_function, unicode_literals\n",
        "import functools\n",
        "\n",
        "import numpy as np\n",
        "import tensorflow as tf"
      ],
      "execution_count": 0,
      "outputs": []
    },
    {
      "cell_type": "code",
      "metadata": {
        "id": "OW-GFBpdXplf",
        "colab_type": "code",
        "outputId": "3beb7ede-4ab1-49bd-e07d-ff140a5d7f93",
        "colab": {
          "resources": {
            "http://localhost:8080/nbextensions/google.colab/files.js": {
              "data": "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",
              "ok": true,
              "headers": [
                [
                  "content-type",
                  "application/javascript"
                ]
              ],
              "status": 200,
              "status_text": ""
            }
          },
          "base_uri": "https://localhost:8080/",
          "height": 71
        }
      },
      "source": [
        "from google.colab import files\n",
        "uploaded = files.upload()"
      ],
      "execution_count": 4,
      "outputs": [
        {
          "output_type": "display_data",
          "data": {
            "text/html": [
              "\n",
              "     <input type=\"file\" id=\"files-dbfce84b-64fb-474e-bec7-16fa18ade37c\" name=\"files[]\" multiple disabled />\n",
              "     <output id=\"result-dbfce84b-64fb-474e-bec7-16fa18ade37c\">\n",
              "      Upload widget is only available when the cell has been executed in the\n",
              "      current browser session. Please rerun this cell to enable.\n",
              "      </output>\n",
              "      <script src=\"/nbextensions/google.colab/files.js\"></script> "
            ],
            "text/plain": [
              "<IPython.core.display.HTML object>"
            ]
          },
          "metadata": {
            "tags": []
          }
        },
        {
          "output_type": "stream",
          "text": [
            "Saving heart_train.csv to heart_train.csv\n"
          ],
          "name": "stdout"
        }
      ]
    },
    {
      "cell_type": "code",
      "metadata": {
        "id": "faX_xMJyFwjJ",
        "colab_type": "code",
        "colab": {}
      },
      "source": [
        "#!rm \"heart_train.csv\"\n",
        "#!rm \"heart_test.csv\""
      ],
      "execution_count": 0,
      "outputs": []
    },
    {
      "cell_type": "code",
      "metadata": {
        "id": "uX7yCWBPEOg3",
        "colab_type": "code",
        "colab": {}
      },
      "source": [
        "# Make numpy values easier to read.\n",
        "np.set_printoptions(precision=3, suppress=True)"
      ],
      "execution_count": 0,
      "outputs": []
    },
    {
      "cell_type": "code",
      "metadata": {
        "id": "aFZcLR29isJu",
        "colab_type": "code",
        "colab": {}
      },
      "source": [
        "LABEL_COLUMN = 'chd'\n",
        "LABELS = [0, 1]\n",
        "CSV_COLUMNS = ['sbp', 'tobacco', 'ldl', 'adiposity', 'famhist', 'typea', 'obesity', 'alcohol', 'age', 'chd']"
      ],
      "execution_count": 0,
      "outputs": []
    },
    {
      "cell_type": "code",
      "metadata": {
        "id": "cHcC-QnpiP5h",
        "colab_type": "code",
        "outputId": "f3584449-c1b1-4089-f3ed-7ee1cd3b8f00",
        "colab": {
          "base_uri": "https://localhost:8080/",
          "height": 88
        }
      },
      "source": [
        "def get_dataset(file_path, **kwargs):\n",
        "  dataset = tf.data.experimental.make_csv_dataset(\n",
        "      file_path,\n",
        "      batch_size=1, # Artificially small to make examples easier to show.\n",
        "      label_name=LABEL_COLUMN,\n",
        "      na_value=\"?\",\n",
        "      num_epochs=1,\n",
        "      ignore_errors=True, \n",
        "      **kwargs)\n",
        "  return dataset\n",
        "\n",
        "raw_train_data = get_dataset(['heart_train.csv'], select_columns=CSV_COLUMNS)\n",
        "raw_test_data = get_dataset(['heart_test.csv'], select_columns=CSV_COLUMNS)"
      ],
      "execution_count": 7,
      "outputs": [
        {
          "output_type": "stream",
          "text": [
            "WARNING:tensorflow:From /tensorflow-2.0.0/python3.6/tensorflow_core/python/data/experimental/ops/readers.py:521: parallel_interleave (from tensorflow.python.data.experimental.ops.interleave_ops) is deprecated and will be removed in a future version.\n",
            "Instructions for updating:\n",
            "Use `tf.data.Dataset.interleave(map_func, cycle_length, block_length, num_parallel_calls=tf.data.experimental.AUTOTUNE)` instead. If sloppy execution is desired, use `tf.data.Options.experimental_determinstic`.\n"
          ],
          "name": "stdout"
        }
      ]
    },
    {
      "cell_type": "code",
      "metadata": {
        "id": "8Xs0X4QJjwgd",
        "colab_type": "code",
        "colab": {}
      },
      "source": [
        "def show_batch(dataset):\n",
        "  for batch, label in dataset.take(1):\n",
        "    for key, value in batch.items():\n",
        "      print(\"{:20s}: {}\".format(key,value.numpy()))"
      ],
      "execution_count": 0,
      "outputs": []
    },
    {
      "cell_type": "code",
      "metadata": {
        "id": "9iD4RANElqLu",
        "colab_type": "code",
        "colab": {
          "base_uri": "https://localhost:8080/",
          "height": 170
        },
        "outputId": "414ea91f-4c64-4a98-c7ae-0097f80e4b3c"
      },
      "source": [
        "show_batch(raw_train_data)"
      ],
      "execution_count": 9,
      "outputs": [
        {
          "output_type": "stream",
          "text": [
            "sbp                 : [168]\n",
            "tobacco             : [11.4]\n",
            "ldl                 : [5.08]\n",
            "adiposity           : [26.66]\n",
            "famhist             : [b'Present']\n",
            "typea               : [56]\n",
            "obesity             : [27.04]\n",
            "alcohol             : [2.61]\n",
            "age                 : [59]\n"
          ],
          "name": "stdout"
        }
      ]
    },
    {
      "cell_type": "markdown",
      "metadata": {
        "id": "AsIiQC_VJfV6",
        "colab_type": "text"
      },
      "source": [
        "Data Preprocessing"
      ]
    },
    {
      "cell_type": "markdown",
      "metadata": {
        "id": "pFPE66veMdV9",
        "colab_type": "text"
      },
      "source": [
        "Continuous Data"
      ]
    },
    {
      "cell_type": "code",
      "metadata": {
        "id": "dcLHq-YkMdr3",
        "colab_type": "code",
        "colab": {}
      },
      "source": [
        "class PackNumericFeatures(object):\n",
        "  def __init__(self, names):\n",
        "    self.names = names\n",
        "\n",
        "  def __call__(self, features, labels):\n",
        "    numeric_features = [features.pop(name) for name in self.names]\n",
        "    numeric_features = [tf.cast(feat, tf.float32) for feat in numeric_features]\n",
        "    numeric_features = tf.stack(numeric_features, axis=-1)\n",
        "    features['numeric'] = numeric_features\n",
        "\n",
        "    return features, labels"
      ],
      "execution_count": 0,
      "outputs": []
    },
    {
      "cell_type": "code",
      "metadata": {
        "id": "ib-Rq2fDdeUP",
        "colab_type": "code",
        "colab": {
          "base_uri": "https://localhost:8080/",
          "height": 51
        },
        "outputId": "a1a854ac-7755-4eef-cd44-400fbe8228d6"
      },
      "source": [
        "NUMERIC_FEATURES = ['sbp', 'tobacco', 'ldl', 'adiposity', 'typea', 'obesity', 'alcohol', 'age']\n",
        "packed_train_data = raw_train_data.map(\n",
        "    PackNumericFeatures(NUMERIC_FEATURES))\n",
        "\n",
        "packed_test_data = raw_test_data.map(\n",
        "    PackNumericFeatures(NUMERIC_FEATURES))\n",
        "\n",
        "show_batch(packed_train_data)"
      ],
      "execution_count": 11,
      "outputs": [
        {
          "output_type": "stream",
          "text": [
            "famhist             : [b'Present']\n",
            "numeric             : [[136.     3.15   4.37  20.22  59.    25.12  47.16  31.  ]]\n"
          ],
          "name": "stdout"
        }
      ]
    },
    {
      "cell_type": "markdown",
      "metadata": {
        "id": "1DWv1WZkLQjZ",
        "colab_type": "text"
      },
      "source": [
        "Data Normalization"
      ]
    },
    {
      "cell_type": "code",
      "metadata": {
        "id": "UaEAdk68kM0t",
        "colab_type": "code",
        "colab": {
          "base_uri": "https://localhost:8080/",
          "height": 297
        },
        "outputId": "09b0d54f-09fc-459c-e83e-74d33016998f"
      },
      "source": [
        "import pandas as pd\n",
        "desc = pd.read_csv('heart_train.csv')[NUMERIC_FEATURES].describe()\n",
        "desc"
      ],
      "execution_count": 12,
      "outputs": [
        {
          "output_type": "execute_result",
          "data": {
            "text/html": [
              "<div>\n",
              "<style scoped>\n",
              "    .dataframe tbody tr th:only-of-type {\n",
              "        vertical-align: middle;\n",
              "    }\n",
              "\n",
              "    .dataframe tbody tr th {\n",
              "        vertical-align: top;\n",
              "    }\n",
              "\n",
              "    .dataframe thead th {\n",
              "        text-align: right;\n",
              "    }\n",
              "</style>\n",
              "<table border=\"1\" class=\"dataframe\">\n",
              "  <thead>\n",
              "    <tr style=\"text-align: right;\">\n",
              "      <th></th>\n",
              "      <th>sbp</th>\n",
              "      <th>tobacco</th>\n",
              "      <th>ldl</th>\n",
              "      <th>adiposity</th>\n",
              "      <th>typea</th>\n",
              "      <th>obesity</th>\n",
              "      <th>alcohol</th>\n",
              "      <th>age</th>\n",
              "    </tr>\n",
              "  </thead>\n",
              "  <tbody>\n",
              "    <tr>\n",
              "      <th>count</th>\n",
              "      <td>396.000000</td>\n",
              "      <td>396.000000</td>\n",
              "      <td>396.000000</td>\n",
              "      <td>396.000000</td>\n",
              "      <td>396.000000</td>\n",
              "      <td>396.000000</td>\n",
              "      <td>396.000000</td>\n",
              "      <td>396.000000</td>\n",
              "    </tr>\n",
              "    <tr>\n",
              "      <th>mean</th>\n",
              "      <td>137.219697</td>\n",
              "      <td>3.641591</td>\n",
              "      <td>4.773813</td>\n",
              "      <td>25.392247</td>\n",
              "      <td>53.477273</td>\n",
              "      <td>26.137374</td>\n",
              "      <td>16.792121</td>\n",
              "      <td>43.138889</td>\n",
              "    </tr>\n",
              "    <tr>\n",
              "      <th>std</th>\n",
              "      <td>18.965784</td>\n",
              "      <td>4.483097</td>\n",
              "      <td>2.022398</td>\n",
              "      <td>7.666093</td>\n",
              "      <td>9.896272</td>\n",
              "      <td>4.225893</td>\n",
              "      <td>24.407237</td>\n",
              "      <td>14.413369</td>\n",
              "    </tr>\n",
              "    <tr>\n",
              "      <th>min</th>\n",
              "      <td>101.000000</td>\n",
              "      <td>0.000000</td>\n",
              "      <td>0.980000</td>\n",
              "      <td>7.120000</td>\n",
              "      <td>13.000000</td>\n",
              "      <td>17.750000</td>\n",
              "      <td>0.000000</td>\n",
              "      <td>15.000000</td>\n",
              "    </tr>\n",
              "    <tr>\n",
              "      <th>25%</th>\n",
              "      <td>124.000000</td>\n",
              "      <td>0.097500</td>\n",
              "      <td>3.277500</td>\n",
              "      <td>19.740000</td>\n",
              "      <td>47.000000</td>\n",
              "      <td>23.200000</td>\n",
              "      <td>0.510000</td>\n",
              "      <td>31.750000</td>\n",
              "    </tr>\n",
              "    <tr>\n",
              "      <th>50%</th>\n",
              "      <td>134.000000</td>\n",
              "      <td>2.010000</td>\n",
              "      <td>4.400000</td>\n",
              "      <td>26.150000</td>\n",
              "      <td>54.000000</td>\n",
              "      <td>25.830000</td>\n",
              "      <td>7.710000</td>\n",
              "      <td>45.000000</td>\n",
              "    </tr>\n",
              "    <tr>\n",
              "      <th>75%</th>\n",
              "      <td>148.000000</td>\n",
              "      <td>5.500000</td>\n",
              "      <td>5.900000</td>\n",
              "      <td>31.057500</td>\n",
              "      <td>60.000000</td>\n",
              "      <td>28.430000</td>\n",
              "      <td>23.225000</td>\n",
              "      <td>56.000000</td>\n",
              "    </tr>\n",
              "    <tr>\n",
              "      <th>max</th>\n",
              "      <td>208.000000</td>\n",
              "      <td>31.200000</td>\n",
              "      <td>15.330000</td>\n",
              "      <td>42.490000</td>\n",
              "      <td>78.000000</td>\n",
              "      <td>46.580000</td>\n",
              "      <td>147.190000</td>\n",
              "      <td>64.000000</td>\n",
              "    </tr>\n",
              "  </tbody>\n",
              "</table>\n",
              "</div>"
            ],
            "text/plain": [
              "              sbp     tobacco         ldl  ...     obesity     alcohol         age\n",
              "count  396.000000  396.000000  396.000000  ...  396.000000  396.000000  396.000000\n",
              "mean   137.219697    3.641591    4.773813  ...   26.137374   16.792121   43.138889\n",
              "std     18.965784    4.483097    2.022398  ...    4.225893   24.407237   14.413369\n",
              "min    101.000000    0.000000    0.980000  ...   17.750000    0.000000   15.000000\n",
              "25%    124.000000    0.097500    3.277500  ...   23.200000    0.510000   31.750000\n",
              "50%    134.000000    2.010000    4.400000  ...   25.830000    7.710000   45.000000\n",
              "75%    148.000000    5.500000    5.900000  ...   28.430000   23.225000   56.000000\n",
              "max    208.000000   31.200000   15.330000  ...   46.580000  147.190000   64.000000\n",
              "\n",
              "[8 rows x 8 columns]"
            ]
          },
          "metadata": {
            "tags": []
          },
          "execution_count": 12
        }
      ]
    },
    {
      "cell_type": "code",
      "metadata": {
        "id": "Kk_ctnqxgqI3",
        "colab_type": "code",
        "colab": {}
      },
      "source": [
        "MEAN = np.array(desc.T['mean'])\n",
        "STD = np.array(desc.T['std'])"
      ],
      "execution_count": 0,
      "outputs": []
    },
    {
      "cell_type": "code",
      "metadata": {
        "id": "ge1NCONJjNRk",
        "colab_type": "code",
        "colab": {}
      },
      "source": [
        "def normalize_numeric_data(data, mean, std):\n",
        "  # Center the data\n",
        "  return (data-mean)/std"
      ],
      "execution_count": 0,
      "outputs": []
    },
    {
      "cell_type": "code",
      "metadata": {
        "id": "wnP0BzCzRAsr",
        "colab_type": "code",
        "colab": {}
      },
      "source": [
        "normalizer = functools.partial(normalize_numeric_data, mean=MEAN, std=STD)\n",
        "\n",
        "numeric_column = tf.feature_column.numeric_column('numeric', normalizer_fn=normalizer, shape=[len(NUMERIC_FEATURES)])\n",
        "numeric_columns = [numeric_column]\n",
        "numeric_column\n",
        "\n",
        "numeric_layer = tf.keras.layers.DenseFeatures(numeric_columns)"
      ],
      "execution_count": 0,
      "outputs": []
    },
    {
      "cell_type": "markdown",
      "metadata": {
        "id": "N8R_aZBzMwnH",
        "colab_type": "text"
      },
      "source": [
        "Categorical Data"
      ]
    },
    {
      "cell_type": "code",
      "metadata": {
        "id": "F11sEaTdweU1",
        "colab_type": "code",
        "colab": {}
      },
      "source": [
        "CATEGORIES = {\n",
        "    'famhist': ['Present', 'Absent']\n",
        "}\n",
        "\n",
        "categorical_columns = []\n",
        "for feature, vocab in CATEGORIES.items():\n",
        "  cat_col = tf.feature_column.categorical_column_with_vocabulary_list(\n",
        "        key=feature, vocabulary_list=vocab)\n",
        "  categorical_columns.append(tf.feature_column.indicator_column(cat_col))\n",
        "\n",
        "# See what you just created.\n",
        "categorical_columns\n",
        "\n",
        "categorical_layer = tf.keras.layers.DenseFeatures(categorical_columns)"
      ],
      "execution_count": 0,
      "outputs": []
    },
    {
      "cell_type": "markdown",
      "metadata": {
        "id": "Gn91VqqY-2MX",
        "colab_type": "text"
      },
      "source": [
        "Combined preprocessing layer"
      ]
    },
    {
      "cell_type": "code",
      "metadata": {
        "id": "rQGk6z9OnkI8",
        "colab_type": "code",
        "colab": {}
      },
      "source": [
        "preprocessing_layer = tf.keras.layers.DenseFeatures(categorical_columns+numeric_columns)"
      ],
      "execution_count": 0,
      "outputs": []
    },
    {
      "cell_type": "markdown",
      "metadata": {
        "id": "IYy6nt2I-84a",
        "colab_type": "text"
      },
      "source": [
        "Build the model"
      ]
    },
    {
      "cell_type": "markdown",
      "metadata": {
        "id": "g7ck_R6d-_bj",
        "colab_type": "text"
      },
      "source": [
        "Initial Model"
      ]
    },
    {
      "cell_type": "code",
      "metadata": {
        "id": "A5S_JXECZURd",
        "colab_type": "code",
        "colab": {}
      },
      "source": [
        "#model = tf.keras.Sequential([\n",
        "  #preprocessing_layer,\n",
        "  #tf.keras.layers.Dense(128, activation='relu'),\n",
        "  #tf.keras.layers.Dense(128, activation='relu'),\n",
        "  #tf.keras.layers.Dense(1, activation='sigmoid'),\n",
        "#])\n",
        "\n",
        "#model.compile(\n",
        "  #loss='binary_crossentropy',\n",
        "  #optimizer='adam',\n",
        "  #metrics=['accuracy'])"
      ],
      "execution_count": 0,
      "outputs": []
    },
    {
      "cell_type": "markdown",
      "metadata": {
        "id": "4uhtH7fO_Bni",
        "colab_type": "text"
      },
      "source": [
        "Improved Model by adding regularization and droupout"
      ]
    },
    {
      "cell_type": "code",
      "metadata": {
        "id": "44G6as3kogJw",
        "colab_type": "code",
        "colab": {}
      },
      "source": [
        "model = tf.keras.Sequential([\n",
        "  preprocessing_layer,\n",
        "  tf.keras.layers.Dense(128, kernel_regularizer=tf.keras.regularizers.l2(0.0001), activation='relu'),\n",
        "  tf.keras.layers.Dropout(0.5),\n",
        "  tf.keras.layers.Dense(128, kernel_regularizer=tf.keras.regularizers.l2(0.0001), activation='relu'),\n",
        "  tf.keras.layers.Dropout(0.5),\n",
        "  tf.keras.layers.Dense(1, activation='sigmoid'),\n",
        "])\n",
        "\n",
        "model.compile(\n",
        "    loss='binary_crossentropy',\n",
        "    optimizer='adam',\n",
        "    metrics=['accuracy'])"
      ],
      "execution_count": 0,
      "outputs": []
    },
    {
      "cell_type": "markdown",
      "metadata": {
        "id": "9I71sKtR_ODu",
        "colab_type": "text"
      },
      "source": [
        "Train and Evaluate the model"
      ]
    },
    {
      "cell_type": "code",
      "metadata": {
        "id": "k4HMuKm--9zH",
        "colab_type": "code",
        "colab": {
          "base_uri": "https://localhost:8080/",
          "height": 1000
        },
        "outputId": "52f1cba9-f76e-4617-9181-6aa5a0360395"
      },
      "source": [
        "train_data = packed_train_data.shuffle(500)\n",
        "test_data = packed_test_data\n",
        "\n",
        "model.fit(train_data, epochs=50, validation_data=test_data)\n"
      ],
      "execution_count": 23,
      "outputs": [
        {
          "output_type": "stream",
          "text": [
            "Epoch 1/50\n",
            "396/396 [==============================] - 3s 9ms/step - loss: 0.6079 - accuracy: 0.7071 - val_loss: 0.0000e+00 - val_accuracy: 0.0000e+00\n",
            "Epoch 2/50\n",
            "396/396 [==============================] - 1s 3ms/step - loss: 0.5851 - accuracy: 0.7121 - val_loss: 0.5061 - val_accuracy: 0.7273\n",
            "Epoch 3/50\n",
            "396/396 [==============================] - 1s 3ms/step - loss: 0.5658 - accuracy: 0.7247 - val_loss: 0.4970 - val_accuracy: 0.7727\n",
            "Epoch 4/50\n",
            "396/396 [==============================] - 1s 2ms/step - loss: 0.5361 - accuracy: 0.7121 - val_loss: 0.5368 - val_accuracy: 0.7273\n",
            "Epoch 5/50\n",
            "396/396 [==============================] - 1s 3ms/step - loss: 0.5346 - accuracy: 0.7525 - val_loss: 0.5248 - val_accuracy: 0.7424\n",
            "Epoch 6/50\n",
            "396/396 [==============================] - 1s 2ms/step - loss: 0.5284 - accuracy: 0.7475 - val_loss: 0.5405 - val_accuracy: 0.7424\n",
            "Epoch 7/50\n",
            "396/396 [==============================] - 1s 2ms/step - loss: 0.5332 - accuracy: 0.7525 - val_loss: 0.5225 - val_accuracy: 0.7576\n",
            "Epoch 8/50\n",
            "396/396 [==============================] - 1s 2ms/step - loss: 0.5122 - accuracy: 0.7374 - val_loss: 0.5275 - val_accuracy: 0.7727\n",
            "Epoch 9/50\n",
            "396/396 [==============================] - 1s 3ms/step - loss: 0.5184 - accuracy: 0.7551 - val_loss: 0.5277 - val_accuracy: 0.7879\n",
            "Epoch 10/50\n",
            "396/396 [==============================] - 1s 2ms/step - loss: 0.5357 - accuracy: 0.7424 - val_loss: 0.5286 - val_accuracy: 0.7576\n",
            "Epoch 11/50\n",
            "396/396 [==============================] - 1s 2ms/step - loss: 0.4952 - accuracy: 0.7576 - val_loss: 0.5167 - val_accuracy: 0.7727\n",
            "Epoch 12/50\n",
            "396/396 [==============================] - 1s 2ms/step - loss: 0.5282 - accuracy: 0.7601 - val_loss: 0.5367 - val_accuracy: 0.7879\n",
            "Epoch 13/50\n",
            "396/396 [==============================] - 1s 3ms/step - loss: 0.5026 - accuracy: 0.7399 - val_loss: 0.5383 - val_accuracy: 0.7727\n",
            "Epoch 14/50\n",
            "396/396 [==============================] - 1s 2ms/step - loss: 0.5251 - accuracy: 0.7424 - val_loss: 0.5459 - val_accuracy: 0.7879\n",
            "Epoch 15/50\n",
            "396/396 [==============================] - 1s 3ms/step - loss: 0.5073 - accuracy: 0.7652 - val_loss: 0.5585 - val_accuracy: 0.7879\n",
            "Epoch 16/50\n",
            "396/396 [==============================] - 1s 3ms/step - loss: 0.5123 - accuracy: 0.7626 - val_loss: 0.5559 - val_accuracy: 0.7879\n",
            "Epoch 17/50\n",
            "396/396 [==============================] - 1s 2ms/step - loss: 0.5110 - accuracy: 0.7702 - val_loss: 0.5185 - val_accuracy: 0.7879\n",
            "Epoch 18/50\n",
            "396/396 [==============================] - 1s 2ms/step - loss: 0.4779 - accuracy: 0.7525 - val_loss: 0.5358 - val_accuracy: 0.7879\n",
            "Epoch 19/50\n",
            "396/396 [==============================] - 1s 3ms/step - loss: 0.5063 - accuracy: 0.7727 - val_loss: 0.5480 - val_accuracy: 0.7879\n",
            "Epoch 20/50\n",
            "396/396 [==============================] - 1s 3ms/step - loss: 0.4957 - accuracy: 0.7677 - val_loss: 0.5294 - val_accuracy: 0.7879\n",
            "Epoch 21/50\n",
            "396/396 [==============================] - 1s 2ms/step - loss: 0.5106 - accuracy: 0.7626 - val_loss: 0.5337 - val_accuracy: 0.7879\n",
            "Epoch 22/50\n",
            "396/396 [==============================] - 1s 3ms/step - loss: 0.4564 - accuracy: 0.7929 - val_loss: 0.5450 - val_accuracy: 0.7879\n",
            "Epoch 23/50\n",
            "396/396 [==============================] - 1s 2ms/step - loss: 0.5020 - accuracy: 0.7727 - val_loss: 0.5570 - val_accuracy: 0.7879\n",
            "Epoch 24/50\n",
            "396/396 [==============================] - 1s 3ms/step - loss: 0.4924 - accuracy: 0.7854 - val_loss: 0.5703 - val_accuracy: 0.7879\n",
            "Epoch 25/50\n",
            "396/396 [==============================] - 1s 2ms/step - loss: 0.4820 - accuracy: 0.7727 - val_loss: 0.5431 - val_accuracy: 0.7879\n",
            "Epoch 26/50\n",
            "396/396 [==============================] - 1s 3ms/step - loss: 0.4623 - accuracy: 0.7626 - val_loss: 0.5452 - val_accuracy: 0.7879\n",
            "Epoch 27/50\n",
            "396/396 [==============================] - 1s 2ms/step - loss: 0.4596 - accuracy: 0.7702 - val_loss: 0.5461 - val_accuracy: 0.7879\n",
            "Epoch 28/50\n",
            "396/396 [==============================] - 1s 2ms/step - loss: 0.4864 - accuracy: 0.7727 - val_loss: 0.5517 - val_accuracy: 0.7424\n",
            "Epoch 29/50\n",
            "396/396 [==============================] - 1s 2ms/step - loss: 0.4738 - accuracy: 0.7702 - val_loss: 0.5583 - val_accuracy: 0.7727\n",
            "Epoch 30/50\n",
            "396/396 [==============================] - 1s 3ms/step - loss: 0.4556 - accuracy: 0.7828 - val_loss: 0.5727 - val_accuracy: 0.7879\n",
            "Epoch 31/50\n",
            "396/396 [==============================] - 1s 3ms/step - loss: 0.4389 - accuracy: 0.7904 - val_loss: 0.6013 - val_accuracy: 0.7879\n",
            "Epoch 32/50\n",
            "396/396 [==============================] - 1s 2ms/step - loss: 0.4512 - accuracy: 0.7879 - val_loss: 0.5495 - val_accuracy: 0.8030\n",
            "Epoch 33/50\n",
            "396/396 [==============================] - 1s 3ms/step - loss: 0.4416 - accuracy: 0.7980 - val_loss: 0.5719 - val_accuracy: 0.7879\n",
            "Epoch 34/50\n",
            "396/396 [==============================] - 1s 3ms/step - loss: 0.4589 - accuracy: 0.7803 - val_loss: 0.5747 - val_accuracy: 0.7727\n",
            "Epoch 35/50\n",
            "396/396 [==============================] - 1s 3ms/step - loss: 0.4505 - accuracy: 0.8030 - val_loss: 0.5361 - val_accuracy: 0.7879\n",
            "Epoch 36/50\n",
            "396/396 [==============================] - 1s 3ms/step - loss: 0.4837 - accuracy: 0.7854 - val_loss: 0.5393 - val_accuracy: 0.7879\n",
            "Epoch 37/50\n",
            "396/396 [==============================] - 1s 3ms/step - loss: 0.4685 - accuracy: 0.7828 - val_loss: 0.5551 - val_accuracy: 0.7879\n",
            "Epoch 38/50\n",
            "396/396 [==============================] - 1s 3ms/step - loss: 0.4460 - accuracy: 0.7904 - val_loss: 0.5395 - val_accuracy: 0.8030\n",
            "Epoch 39/50\n",
            "396/396 [==============================] - 1s 3ms/step - loss: 0.4641 - accuracy: 0.7778 - val_loss: 0.5499 - val_accuracy: 0.7879\n",
            "Epoch 40/50\n",
            "396/396 [==============================] - 1s 3ms/step - loss: 0.4627 - accuracy: 0.7929 - val_loss: 0.5942 - val_accuracy: 0.7727\n",
            "Epoch 41/50\n",
            "396/396 [==============================] - 1s 3ms/step - loss: 0.4186 - accuracy: 0.8182 - val_loss: 0.5925 - val_accuracy: 0.8030\n",
            "Epoch 42/50\n",
            "396/396 [==============================] - 1s 3ms/step - loss: 0.4701 - accuracy: 0.7854 - val_loss: 0.5964 - val_accuracy: 0.8182\n",
            "Epoch 43/50\n",
            "396/396 [==============================] - 1s 2ms/step - loss: 0.4470 - accuracy: 0.7904 - val_loss: 0.6088 - val_accuracy: 0.8030\n",
            "Epoch 44/50\n",
            "396/396 [==============================] - 1s 3ms/step - loss: 0.4410 - accuracy: 0.8131 - val_loss: 0.6129 - val_accuracy: 0.7727\n",
            "Epoch 45/50\n",
            "396/396 [==============================] - 1s 2ms/step - loss: 0.4494 - accuracy: 0.8030 - val_loss: 0.6351 - val_accuracy: 0.7879\n",
            "Epoch 46/50\n",
            "396/396 [==============================] - 1s 3ms/step - loss: 0.4259 - accuracy: 0.7727 - val_loss: 0.6110 - val_accuracy: 0.7879\n",
            "Epoch 47/50\n",
            "396/396 [==============================] - 1s 3ms/step - loss: 0.4292 - accuracy: 0.8005 - val_loss: 0.6317 - val_accuracy: 0.7727\n",
            "Epoch 48/50\n",
            "396/396 [==============================] - 1s 2ms/step - loss: 0.4131 - accuracy: 0.8056 - val_loss: 0.6410 - val_accuracy: 0.7879\n",
            "Epoch 49/50\n",
            "396/396 [==============================] - 1s 2ms/step - loss: 0.4393 - accuracy: 0.7955 - val_loss: 0.6192 - val_accuracy: 0.7879\n",
            "Epoch 50/50\n",
            "396/396 [==============================] - 1s 3ms/step - loss: 0.4465 - accuracy: 0.7727 - val_loss: 0.6062 - val_accuracy: 0.7879\n"
          ],
          "name": "stdout"
        },
        {
          "output_type": "execute_result",
          "data": {
            "text/plain": [
              "<tensorflow.python.keras.callbacks.History at 0x7fc1927499b0>"
            ]
          },
          "metadata": {
            "tags": []
          },
          "execution_count": 23
        }
      ]
    },
    {
      "cell_type": "code",
      "metadata": {
        "id": "dJvAZaHGy8p_",
        "colab_type": "code",
        "colab": {
          "base_uri": "https://localhost:8080/",
          "height": 85
        },
        "outputId": "1d91bd1d-dc2a-4b14-e8cd-0847e279cb75"
      },
      "source": [
        "print(\"--Evaluate model--\")\n",
        "model_loss, model_acc = model.evaluate(test_data, verbose=2)\n",
        "print(f\"Model Loss:    {model_loss:.2f}\")\n",
        "print(f\"Model Accuray: {model_acc*100:.1f}%\")"
      ],
      "execution_count": 24,
      "outputs": [
        {
          "output_type": "stream",
          "text": [
            "--Evaluate model--\n",
            "66/66 - 0s - loss: 0.6062 - accuracy: 0.7879\n",
            "Model Loss:    0.61\n",
            "Model Accuray: 78.8%\n"
          ],
          "name": "stdout"
        }
      ]
    }
  ]
}