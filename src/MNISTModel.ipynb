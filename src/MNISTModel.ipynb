{
  "nbformat": 4,
  "nbformat_minor": 0,
  "metadata": {
    "colab": {
      "name": "MNISTModel.ipynb",
      "provenance": []
    },
    "kernelspec": {
      "name": "python3",
      "display_name": "Python 3"
    }
  },
  "cells": [
    {
      "cell_type": "code",
      "metadata": {
        "id": "V-Us3j5cVi0E",
        "colab_type": "code",
        "outputId": "e90205c0-1ea1-44de-f302-c9d45e47fc85",
        "colab": {
          "base_uri": "https://localhost:8080/",
          "height": 34
        }
      },
      "source": [
        "#For Google Collab\n",
        "try:\n",
        "  # %tensorflow_version only exists in Colab.\n",
        "  %tensorflow_version 2.x\n",
        "except Exception:\n",
        "  pass"
      ],
      "execution_count": 0,
      "outputs": [
        {
          "output_type": "stream",
          "text": [
            "TensorFlow 2.x selected.\n"
          ],
          "name": "stdout"
        }
      ]
    },
    {
      "cell_type": "code",
      "metadata": {
        "id": "VxYN4ADeVpnW",
        "colab_type": "code",
        "colab": {}
      },
      "source": [
        "import tensorflow as tf"
      ],
      "execution_count": 0,
      "outputs": []
    },
    {
      "cell_type": "code",
      "metadata": {
        "id": "gh8AAvaOVu04",
        "colab_type": "code",
        "outputId": "885580ac-7f70-4765-ebc0-2ef6f09f1540",
        "colab": {
          "base_uri": "https://localhost:8080/",
          "height": 68
        }
      },
      "source": [
        "print(\"--Get data--\")\n",
        "mnist = tf.keras.datasets.mnist\n",
        "(x_train, y_train), (x_test, y_test) = mnist.load_data()"
      ],
      "execution_count": 0,
      "outputs": [
        {
          "output_type": "stream",
          "text": [
            "--Get data--\n",
            "Downloading data from https://storage.googleapis.com/tensorflow/tf-keras-datasets/mnist.npz\n",
            "11493376/11490434 [==============================] - 0s 0us/step\n"
          ],
          "name": "stdout"
        }
      ]
    },
    {
      "cell_type": "code",
      "metadata": {
        "id": "FnD7K89FV08L",
        "colab_type": "code",
        "outputId": "e855197a-76b0-4bd4-d0aa-304e31fad332",
        "colab": {
          "base_uri": "https://localhost:8080/",
          "height": 34
        }
      },
      "source": [
        "print(\"--Process data--\")\n",
        "x_train, x_test = x_train / 255.0, x_test / 255.0"
      ],
      "execution_count": 0,
      "outputs": [
        {
          "output_type": "stream",
          "text": [
            "--Process data--\n"
          ],
          "name": "stdout"
        }
      ]
    },
    {
      "cell_type": "code",
      "metadata": {
        "id": "ybk_-2CIV8E0",
        "colab_type": "code",
        "outputId": "828a6725-739e-41fe-b981-d486cfa3801b",
        "colab": {
          "base_uri": "https://localhost:8080/",
          "height": 34
        }
      },
      "source": [
        "print(\"--Make model--\")\n",
        "model = tf.keras.models.Sequential([\n",
        "  tf.keras.layers.Flatten(input_shape=(28, 28)),\n",
        "  tf.keras.layers.Dense(128, activation='relu'),\n",
        "  tf.keras.layers.Dense(128, activation='relu'),\n",
        "  tf.keras.layers.Dense(10, activation='softmax')\n",
        "])\n",
        "learning_rate = 0.0005\n",
        "model.compile(optimizer=tf.keras.optimizers.Adam(lr=learning_rate), loss='sparse_categorical_crossentropy', metrics=['accuracy'])"
      ],
      "execution_count": 0,
      "outputs": [
        {
          "output_type": "stream",
          "text": [
            "--Make model--\n"
          ],
          "name": "stdout"
        }
      ]
    },
    {
      "cell_type": "code",
      "metadata": {
        "id": "CJhZRRYbV-pm",
        "colab_type": "code",
        "outputId": "fa8e1713-e064-495b-eec6-a1a6162bf59d",
        "colab": {
          "base_uri": "https://localhost:8080/",
          "height": 1000
        }
      },
      "source": [
        "print(\"--Fit model--\")\n",
        "model.fit(x_train, y_train, epochs=30, verbose=2)"
      ],
      "execution_count": 0,
      "outputs": [
        {
          "output_type": "stream",
          "text": [
            "--Fit model--\n",
            "Train on 60000 samples\n",
            "Epoch 1/30\n",
            "60000/60000 - 6s - loss: 0.2800 - accuracy: 0.9205\n",
            "Epoch 2/30\n",
            "60000/60000 - 5s - loss: 0.1157 - accuracy: 0.9661\n",
            "Epoch 3/30\n",
            "60000/60000 - 5s - loss: 0.0792 - accuracy: 0.9760\n",
            "Epoch 4/30\n",
            "60000/60000 - 5s - loss: 0.0591 - accuracy: 0.9814\n",
            "Epoch 5/30\n",
            "60000/60000 - 4s - loss: 0.0465 - accuracy: 0.9851\n",
            "Epoch 6/30\n",
            "60000/60000 - 5s - loss: 0.0360 - accuracy: 0.9890\n",
            "Epoch 7/30\n",
            "60000/60000 - 5s - loss: 0.0305 - accuracy: 0.9905\n",
            "Epoch 8/30\n",
            "60000/60000 - 5s - loss: 0.0239 - accuracy: 0.9926\n",
            "Epoch 9/30\n",
            "60000/60000 - 4s - loss: 0.0205 - accuracy: 0.9932\n",
            "Epoch 10/30\n",
            "60000/60000 - 5s - loss: 0.0169 - accuracy: 0.9947\n",
            "Epoch 11/30\n",
            "60000/60000 - 4s - loss: 0.0146 - accuracy: 0.9952\n",
            "Epoch 12/30\n",
            "60000/60000 - 5s - loss: 0.0117 - accuracy: 0.9961\n",
            "Epoch 13/30\n",
            "60000/60000 - 5s - loss: 0.0117 - accuracy: 0.9960\n",
            "Epoch 14/30\n",
            "60000/60000 - 5s - loss: 0.0101 - accuracy: 0.9964\n",
            "Epoch 15/30\n",
            "60000/60000 - 5s - loss: 0.0080 - accuracy: 0.9975\n",
            "Epoch 16/30\n",
            "60000/60000 - 5s - loss: 0.0085 - accuracy: 0.9972\n",
            "Epoch 17/30\n",
            "60000/60000 - 4s - loss: 0.0075 - accuracy: 0.9974\n",
            "Epoch 18/30\n",
            "60000/60000 - 4s - loss: 0.0084 - accuracy: 0.9971\n",
            "Epoch 19/30\n",
            "60000/60000 - 4s - loss: 0.0072 - accuracy: 0.9977\n",
            "Epoch 20/30\n",
            "60000/60000 - 5s - loss: 0.0062 - accuracy: 0.9980\n",
            "Epoch 21/30\n",
            "60000/60000 - 5s - loss: 0.0054 - accuracy: 0.9982\n",
            "Epoch 22/30\n",
            "60000/60000 - 4s - loss: 0.0083 - accuracy: 0.9973\n",
            "Epoch 23/30\n",
            "60000/60000 - 4s - loss: 0.0050 - accuracy: 0.9985\n",
            "Epoch 24/30\n",
            "60000/60000 - 4s - loss: 0.0066 - accuracy: 0.9978\n",
            "Epoch 25/30\n",
            "60000/60000 - 4s - loss: 0.0032 - accuracy: 0.9989\n",
            "Epoch 26/30\n",
            "60000/60000 - 5s - loss: 0.0056 - accuracy: 0.9980\n",
            "Epoch 27/30\n",
            "60000/60000 - 5s - loss: 0.0050 - accuracy: 0.9983\n",
            "Epoch 28/30\n",
            "60000/60000 - 5s - loss: 0.0050 - accuracy: 0.9982\n",
            "Epoch 29/30\n",
            "60000/60000 - 5s - loss: 0.0048 - accuracy: 0.9985\n",
            "Epoch 30/30\n",
            "60000/60000 - 5s - loss: 0.0061 - accuracy: 0.9981\n"
          ],
          "name": "stdout"
        },
        {
          "output_type": "execute_result",
          "data": {
            "text/plain": [
              "<tensorflow.python.keras.callbacks.History at 0x7f2f91db84e0>"
            ]
          },
          "metadata": {
            "tags": []
          },
          "execution_count": 6
        }
      ]
    },
    {
      "cell_type": "code",
      "metadata": {
        "id": "wSGZovEGWIE-",
        "colab_type": "code",
        "outputId": "38ad430f-eb6a-45d3-faee-a2fc5174110c",
        "colab": {
          "base_uri": "https://localhost:8080/",
          "height": 85
        }
      },
      "source": [
        "print(\"--Evaluate model--\")\n",
        "model_loss, model_acc = model.evaluate(x_test,  y_test, verbose=2)\n",
        "print(f\"Model Loss:    {model_loss:.2f}\")\n",
        "print(f\"Model Accuray: {model_acc*100:.1f}%\")"
      ],
      "execution_count": 0,
      "outputs": [
        {
          "output_type": "stream",
          "text": [
            "--Evaluate model--\n",
            "10000/1 - 0s - loss: 0.0544 - accuracy: 0.9818\n",
            "Model Loss:    0.11\n",
            "Model Accuray: 98.2%\n"
          ],
          "name": "stdout"
        }
      ]
    },
    {
      "cell_type": "code",
      "metadata": {
        "id": "WWpATFl9Afgj",
        "colab_type": "code",
        "colab": {}
      },
      "source": [
        "!rm \"MNIST.h5\""
      ],
      "execution_count": 0,
      "outputs": []
    },
    {
      "cell_type": "code",
      "metadata": {
        "id": "jbu4qUcoPXSv",
        "colab_type": "code",
        "colab": {}
      },
      "source": [
        "model.save('MNIST.h5')"
      ],
      "execution_count": 0,
      "outputs": []
    },
    {
      "cell_type": "code",
      "metadata": {
        "id": "17r-10KbP4qj",
        "colab_type": "code",
        "colab": {}
      },
      "source": [
        "from google.colab import files\n",
        "files.download('MNIST.h5')"
      ],
      "execution_count": 0,
      "outputs": []
    }
  ]
}